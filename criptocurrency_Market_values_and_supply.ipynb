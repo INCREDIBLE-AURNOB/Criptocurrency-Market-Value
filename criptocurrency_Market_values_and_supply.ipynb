{
  "nbformat": 4,
  "nbformat_minor": 0,
  "metadata": {
    "colab": {
      "provenance": [],
      "authorship_tag": "ABX9TyNgivvvoxIW0/bECCicyxYk",
      "include_colab_link": true
    },
    "kernelspec": {
      "name": "python3",
      "display_name": "Python 3"
    },
    "language_info": {
      "name": "python"
    }
  },
  "cells": [
    {
      "cell_type": "markdown",
      "metadata": {
        "id": "view-in-github",
        "colab_type": "text"
      },
      "source": [
        "<a href=\"https://colab.research.google.com/github/INCREDIBLE-AURNOB/Criptocurrency-Market-Value/blob/main/criptocurrency_Market_values_and_supply.ipynb\" target=\"_parent\"><img src=\"https://colab.research.google.com/assets/colab-badge.svg\" alt=\"Open In Colab\"/></a>"
      ]
    },
    {
      "cell_type": "code",
      "source": [
        "!pip3 install opendatasets --quiet"
      ],
      "metadata": {
        "id": "gQ1r5zXb33wS"
      },
      "execution_count": 1,
      "outputs": []
    },
    {
      "cell_type": "code",
      "execution_count": 2,
      "metadata": {
        "id": "2dCffoVy3iPL"
      },
      "outputs": [],
      "source": [
        "\n",
        "import opendatasets as od"
      ]
    },
    {
      "cell_type": "code",
      "source": [
        "dataset=\"https://www.kaggle.com/datasets/thedevastator/cryptocurrency-market-values-and-supply\""
      ],
      "metadata": {
        "id": "zSxRBvMT3v6b"
      },
      "execution_count": 3,
      "outputs": []
    },
    {
      "cell_type": "code",
      "source": [
        "data=od.download(dataset)"
      ],
      "metadata": {
        "colab": {
          "base_uri": "https://localhost:8080/"
        },
        "id": "BknTihii3zrR",
        "outputId": "1eb8e7d6-9a7f-4bb7-f414-44a8689dad9d"
      },
      "execution_count": 4,
      "outputs": [
        {
          "output_type": "stream",
          "name": "stdout",
          "text": [
            "Please provide your Kaggle credentials to download this dataset. Learn more: http://bit.ly/kaggle-creds\n",
            "Your Kaggle username: alrafiaurnob\n",
            "Your Kaggle Key: ··········\n",
            "Downloading cryptocurrency-market-values-and-supply.zip to ./cryptocurrency-market-values-and-supply\n"
          ]
        },
        {
          "output_type": "stream",
          "name": "stderr",
          "text": [
            "100%|██████████| 12.4k/12.4k [00:00<00:00, 6.52MB/s]"
          ]
        },
        {
          "output_type": "stream",
          "name": "stdout",
          "text": [
            "\n"
          ]
        },
        {
          "output_type": "stream",
          "name": "stderr",
          "text": [
            "\n"
          ]
        }
      ]
    },
    {
      "cell_type": "code",
      "source": [
        "import pandas as pd\n",
        "import numpy as np\n",
        "import matplotlib.pyplot as plt\n",
        "import seaborn as sns"
      ],
      "metadata": {
        "id": "xrhD2Mjn8Zvv"
      },
      "execution_count": 5,
      "outputs": []
    },
    {
      "cell_type": "code",
      "source": [
        "raw_df=pd.read_csv(\"/content/cryptocurrency-market-values-and-supply/top cryto2.csv\")"
      ],
      "metadata": {
        "id": "95hCHQc28r5D"
      },
      "execution_count": 6,
      "outputs": []
    },
    {
      "cell_type": "code",
      "source": [
        "raw_df"
      ],
      "metadata": {
        "colab": {
          "base_uri": "https://localhost:8080/",
          "height": 424
        },
        "id": "_mEGuFj48v5x",
        "outputId": "61a090d1-81f5-442c-9768-335655029608"
      },
      "execution_count": 7,
      "outputs": [
        {
          "output_type": "execute_result",
          "data": {
            "text/plain": [
              "     Unnamed: 0             Name    Market_cap     price circulating_supply  \\\n",
              "0             0          Bitcoin  3.852083e+11  20127.14         19,138,750   \n",
              "1             1         Ethereum  1.938345e+11   1586.18        122,202,301   \n",
              "2             2           Tether  6.755111e+10      1.00     67,550,404,113   \n",
              "3             3         USD Coin  5.202630e+10      1.00     52,027,528,034   \n",
              "4             4              BNB  4.491907e+10    278.42        161,337,261   \n",
              "..          ...              ...           ...       ...                ...   \n",
              "595         595        Avalanche  5.089442e+09     17.20        295,963,244   \n",
              "596         596          Uniswap  4.916393e+09      6.45        762,209,327   \n",
              "597         597  Wrapped Bitcoin  4.756996e+09  19427.69            244,856   \n",
              "598         598     UNUS SED LEO  3.996808e+09      4.19        953,954,130   \n",
              "599         599         Litecoin  3.806393e+09     53.40         71,284,731   \n",
              "\n",
              "    symbol               Date  \n",
              "0      BTC  01 September 2022  \n",
              "1      ETH  01 September 2022  \n",
              "2     USDT  01 September 2022  \n",
              "3     USDC  01 September 2022  \n",
              "4      BNB  01 September 2022  \n",
              "..     ...                ...  \n",
              "595   AVAX  30 September 2022  \n",
              "596    UNI  30 September 2022  \n",
              "597   WBTC  30 September 2022  \n",
              "598    LEO  30 September 2022  \n",
              "599    LTC  30 September 2022  \n",
              "\n",
              "[600 rows x 7 columns]"
            ],
            "text/html": [
              "\n",
              "  <div id=\"df-24efa459-d14a-4699-a6cb-c27c6da90088\">\n",
              "    <div class=\"colab-df-container\">\n",
              "      <div>\n",
              "<style scoped>\n",
              "    .dataframe tbody tr th:only-of-type {\n",
              "        vertical-align: middle;\n",
              "    }\n",
              "\n",
              "    .dataframe tbody tr th {\n",
              "        vertical-align: top;\n",
              "    }\n",
              "\n",
              "    .dataframe thead th {\n",
              "        text-align: right;\n",
              "    }\n",
              "</style>\n",
              "<table border=\"1\" class=\"dataframe\">\n",
              "  <thead>\n",
              "    <tr style=\"text-align: right;\">\n",
              "      <th></th>\n",
              "      <th>Unnamed: 0</th>\n",
              "      <th>Name</th>\n",
              "      <th>Market_cap</th>\n",
              "      <th>price</th>\n",
              "      <th>circulating_supply</th>\n",
              "      <th>symbol</th>\n",
              "      <th>Date</th>\n",
              "    </tr>\n",
              "  </thead>\n",
              "  <tbody>\n",
              "    <tr>\n",
              "      <th>0</th>\n",
              "      <td>0</td>\n",
              "      <td>Bitcoin</td>\n",
              "      <td>3.852083e+11</td>\n",
              "      <td>20127.14</td>\n",
              "      <td>19,138,750</td>\n",
              "      <td>BTC</td>\n",
              "      <td>01 September 2022</td>\n",
              "    </tr>\n",
              "    <tr>\n",
              "      <th>1</th>\n",
              "      <td>1</td>\n",
              "      <td>Ethereum</td>\n",
              "      <td>1.938345e+11</td>\n",
              "      <td>1586.18</td>\n",
              "      <td>122,202,301</td>\n",
              "      <td>ETH</td>\n",
              "      <td>01 September 2022</td>\n",
              "    </tr>\n",
              "    <tr>\n",
              "      <th>2</th>\n",
              "      <td>2</td>\n",
              "      <td>Tether</td>\n",
              "      <td>6.755111e+10</td>\n",
              "      <td>1.00</td>\n",
              "      <td>67,550,404,113</td>\n",
              "      <td>USDT</td>\n",
              "      <td>01 September 2022</td>\n",
              "    </tr>\n",
              "    <tr>\n",
              "      <th>3</th>\n",
              "      <td>3</td>\n",
              "      <td>USD Coin</td>\n",
              "      <td>5.202630e+10</td>\n",
              "      <td>1.00</td>\n",
              "      <td>52,027,528,034</td>\n",
              "      <td>USDC</td>\n",
              "      <td>01 September 2022</td>\n",
              "    </tr>\n",
              "    <tr>\n",
              "      <th>4</th>\n",
              "      <td>4</td>\n",
              "      <td>BNB</td>\n",
              "      <td>4.491907e+10</td>\n",
              "      <td>278.42</td>\n",
              "      <td>161,337,261</td>\n",
              "      <td>BNB</td>\n",
              "      <td>01 September 2022</td>\n",
              "    </tr>\n",
              "    <tr>\n",
              "      <th>...</th>\n",
              "      <td>...</td>\n",
              "      <td>...</td>\n",
              "      <td>...</td>\n",
              "      <td>...</td>\n",
              "      <td>...</td>\n",
              "      <td>...</td>\n",
              "      <td>...</td>\n",
              "    </tr>\n",
              "    <tr>\n",
              "      <th>595</th>\n",
              "      <td>595</td>\n",
              "      <td>Avalanche</td>\n",
              "      <td>5.089442e+09</td>\n",
              "      <td>17.20</td>\n",
              "      <td>295,963,244</td>\n",
              "      <td>AVAX</td>\n",
              "      <td>30 September 2022</td>\n",
              "    </tr>\n",
              "    <tr>\n",
              "      <th>596</th>\n",
              "      <td>596</td>\n",
              "      <td>Uniswap</td>\n",
              "      <td>4.916393e+09</td>\n",
              "      <td>6.45</td>\n",
              "      <td>762,209,327</td>\n",
              "      <td>UNI</td>\n",
              "      <td>30 September 2022</td>\n",
              "    </tr>\n",
              "    <tr>\n",
              "      <th>597</th>\n",
              "      <td>597</td>\n",
              "      <td>Wrapped Bitcoin</td>\n",
              "      <td>4.756996e+09</td>\n",
              "      <td>19427.69</td>\n",
              "      <td>244,856</td>\n",
              "      <td>WBTC</td>\n",
              "      <td>30 September 2022</td>\n",
              "    </tr>\n",
              "    <tr>\n",
              "      <th>598</th>\n",
              "      <td>598</td>\n",
              "      <td>UNUS SED LEO</td>\n",
              "      <td>3.996808e+09</td>\n",
              "      <td>4.19</td>\n",
              "      <td>953,954,130</td>\n",
              "      <td>LEO</td>\n",
              "      <td>30 September 2022</td>\n",
              "    </tr>\n",
              "    <tr>\n",
              "      <th>599</th>\n",
              "      <td>599</td>\n",
              "      <td>Litecoin</td>\n",
              "      <td>3.806393e+09</td>\n",
              "      <td>53.40</td>\n",
              "      <td>71,284,731</td>\n",
              "      <td>LTC</td>\n",
              "      <td>30 September 2022</td>\n",
              "    </tr>\n",
              "  </tbody>\n",
              "</table>\n",
              "<p>600 rows × 7 columns</p>\n",
              "</div>\n",
              "      <button class=\"colab-df-convert\" onclick=\"convertToInteractive('df-24efa459-d14a-4699-a6cb-c27c6da90088')\"\n",
              "              title=\"Convert this dataframe to an interactive table.\"\n",
              "              style=\"display:none;\">\n",
              "        \n",
              "  <svg xmlns=\"http://www.w3.org/2000/svg\" height=\"24px\"viewBox=\"0 0 24 24\"\n",
              "       width=\"24px\">\n",
              "    <path d=\"M0 0h24v24H0V0z\" fill=\"none\"/>\n",
              "    <path d=\"M18.56 5.44l.94 2.06.94-2.06 2.06-.94-2.06-.94-.94-2.06-.94 2.06-2.06.94zm-11 1L8.5 8.5l.94-2.06 2.06-.94-2.06-.94L8.5 2.5l-.94 2.06-2.06.94zm10 10l.94 2.06.94-2.06 2.06-.94-2.06-.94-.94-2.06-.94 2.06-2.06.94z\"/><path d=\"M17.41 7.96l-1.37-1.37c-.4-.4-.92-.59-1.43-.59-.52 0-1.04.2-1.43.59L10.3 9.45l-7.72 7.72c-.78.78-.78 2.05 0 2.83L4 21.41c.39.39.9.59 1.41.59.51 0 1.02-.2 1.41-.59l7.78-7.78 2.81-2.81c.8-.78.8-2.07 0-2.86zM5.41 20L4 18.59l7.72-7.72 1.47 1.35L5.41 20z\"/>\n",
              "  </svg>\n",
              "      </button>\n",
              "      \n",
              "  <style>\n",
              "    .colab-df-container {\n",
              "      display:flex;\n",
              "      flex-wrap:wrap;\n",
              "      gap: 12px;\n",
              "    }\n",
              "\n",
              "    .colab-df-convert {\n",
              "      background-color: #E8F0FE;\n",
              "      border: none;\n",
              "      border-radius: 50%;\n",
              "      cursor: pointer;\n",
              "      display: none;\n",
              "      fill: #1967D2;\n",
              "      height: 32px;\n",
              "      padding: 0 0 0 0;\n",
              "      width: 32px;\n",
              "    }\n",
              "\n",
              "    .colab-df-convert:hover {\n",
              "      background-color: #E2EBFA;\n",
              "      box-shadow: 0px 1px 2px rgba(60, 64, 67, 0.3), 0px 1px 3px 1px rgba(60, 64, 67, 0.15);\n",
              "      fill: #174EA6;\n",
              "    }\n",
              "\n",
              "    [theme=dark] .colab-df-convert {\n",
              "      background-color: #3B4455;\n",
              "      fill: #D2E3FC;\n",
              "    }\n",
              "\n",
              "    [theme=dark] .colab-df-convert:hover {\n",
              "      background-color: #434B5C;\n",
              "      box-shadow: 0px 1px 3px 1px rgba(0, 0, 0, 0.15);\n",
              "      filter: drop-shadow(0px 1px 2px rgba(0, 0, 0, 0.3));\n",
              "      fill: #FFFFFF;\n",
              "    }\n",
              "  </style>\n",
              "\n",
              "      <script>\n",
              "        const buttonEl =\n",
              "          document.querySelector('#df-24efa459-d14a-4699-a6cb-c27c6da90088 button.colab-df-convert');\n",
              "        buttonEl.style.display =\n",
              "          google.colab.kernel.accessAllowed ? 'block' : 'none';\n",
              "\n",
              "        async function convertToInteractive(key) {\n",
              "          const element = document.querySelector('#df-24efa459-d14a-4699-a6cb-c27c6da90088');\n",
              "          const dataTable =\n",
              "            await google.colab.kernel.invokeFunction('convertToInteractive',\n",
              "                                                     [key], {});\n",
              "          if (!dataTable) return;\n",
              "\n",
              "          const docLinkHtml = 'Like what you see? Visit the ' +\n",
              "            '<a target=\"_blank\" href=https://colab.research.google.com/notebooks/data_table.ipynb>data table notebook</a>'\n",
              "            + ' to learn more about interactive tables.';\n",
              "          element.innerHTML = '';\n",
              "          dataTable['output_type'] = 'display_data';\n",
              "          await google.colab.output.renderOutput(dataTable, element);\n",
              "          const docLink = document.createElement('div');\n",
              "          docLink.innerHTML = docLinkHtml;\n",
              "          element.appendChild(docLink);\n",
              "        }\n",
              "      </script>\n",
              "    </div>\n",
              "  </div>\n",
              "  "
            ]
          },
          "metadata": {},
          "execution_count": 7
        }
      ]
    },
    {
      "cell_type": "markdown",
      "source": [
        "Analysing the data"
      ],
      "metadata": {
        "id": "JAw3-rSk-dT8"
      }
    },
    {
      "cell_type": "code",
      "source": [
        "plt.figure(figsize=(10,5))\n",
        "sns.barplot(raw_df['Name'], raw_df['price'].values)\n",
        "plt.title('Highest Prices of Coins')\n",
        "plt.ylabel('Prices')\n",
        "plt.xlabel('Name of Coins', fontsize=12)\n",
        "plt.xticks(rotation=90)\n",
        "plt.show()"
      ],
      "metadata": {
        "id": "irxMwPiF8xZU",
        "colab": {
          "base_uri": "https://localhost:8080/",
          "height": 485
        },
        "outputId": "9e652564-f1ff-4aaf-d266-e5e01cfa8be4"
      },
      "execution_count": 8,
      "outputs": [
        {
          "output_type": "stream",
          "name": "stderr",
          "text": [
            "/usr/local/lib/python3.8/dist-packages/seaborn/_decorators.py:36: FutureWarning: Pass the following variables as keyword args: x, y. From version 0.12, the only valid positional argument will be `data`, and passing other arguments without an explicit keyword will result in an error or misinterpretation.\n",
            "  warnings.warn(\n"
          ]
        },
        {
          "output_type": "display_data",
          "data": {
            "text/plain": [
              "<Figure size 720x360 with 1 Axes>"
            ],
            "image/png": "[encoded data removed]"
          },
          "metadata": {
            "needs_background": "light"
          }
        }
      ]
    },
    {
      "cell_type": "code",
      "source": [],
      "metadata": {
        "id": "nwEBmwF1220Y"
      },
      "execution_count": 8,
      "outputs": []
    },
    {
      "cell_type": "code",
      "source": [
        "plt.figure(figsize=(10,5))\n",
        "sns.barplot(raw_df['Name'], raw_df['Market_cap'].values)\n",
        "plt.title('Highest number of market captured')\n",
        "plt.ylabel('Market Capture')\n",
        "plt.xlabel('Name of Coins', fontsize=12)\n",
        "plt.xticks(rotation=90)\n",
        "plt.show()"
      ],
      "metadata": {
        "colab": {
          "base_uri": "https://localhost:8080/",
          "height": 485
        },
        "id": "SbplsEB3mNS3",
        "outputId": "365f1134-1d52-46c0-a752-6845ce301bb6"
      },
      "execution_count": 9,
      "outputs": [
        {
          "output_type": "stream",
          "name": "stderr",
          "text": [
            "/usr/local/lib/python3.8/dist-packages/seaborn/_decorators.py:36: FutureWarning: Pass the following variables as keyword args: x, y. From version 0.12, the only valid positional argument will be `data`, and passing other arguments without an explicit keyword will result in an error or misinterpretation.\n",
            "  warnings.warn(\n"
          ]
        },
        {
          "output_type": "display_data",
          "data": {
            "text/plain": [
              "<Figure size 720x360 with 1 Axes>"
            ],
            "image/png": "[encoded data removed]"
          },
          "metadata": {
            "needs_background": "light"
          }
        }
      ]
    },
    {
      "cell_type": "markdown",
      "source": [
        "## Preprocessing the data"
      ],
      "metadata": {
        "id": "_fG5JEidEaMc"
      }
    },
    {
      "cell_type": "code",
      "source": [
        "raw_df['Date']=pd.to_datetime(raw_df['Date'])\n",
        "raw_df['Date'] = raw_df['Date'].dt.strftime('%d/%m/%Y')\n"
      ],
      "metadata": {
        "id": "kn9GETiAOd-Q"
      },
      "execution_count": 13,
      "outputs": []
    },
    {
      "cell_type": "code",
      "source": [
        "raw_df[\"Day\"]=pd.to_datetime(raw_df.Date,format=\"%d/%m/%Y\").dt.day\n",
        "raw_df[\"Month\"]=pd.to_datetime(raw_df.Date,format=\"%d/%m/%Y\").dt.month\n",
        "raw_df[\"Year\"]=pd.to_datetime(raw_df.Date,format=\"%d/%m/%Y\").dt.year"
      ],
      "metadata": {
        "id": "yc0jegi7dGIY"
      },
      "execution_count": 15,
      "outputs": []
    },
    {
      "cell_type": "code",
      "source": [
        "raw_df.head()"
      ],
      "metadata": {
        "colab": {
          "base_uri": "https://localhost:8080/",
          "height": 169
        },
        "id": "B4sRlo80eCFT",
        "outputId": "fe443410-3dd6-4a23-e038-9d3a3d6a4a1f"
      },
      "execution_count": 63,
      "outputs": [
        {
          "output_type": "error",
          "ename": "AttributeError",
          "evalue": "ignored",
          "traceback": [
            "\u001b[0;31m---------------------------------------------------------------------------\u001b[0m",
            "\u001b[0;31mAttributeError\u001b[0m                            Traceback (most recent call last)",
            "\u001b[0;32m<ipython-input-63-cff76b1304bc>\u001b[0m in \u001b[0;36m<module>\u001b[0;34m\u001b[0m\n\u001b[0;32m----> 1\u001b[0;31m \u001b[0mraw_df\u001b[0m\u001b[0;34m.\u001b[0m\u001b[0mhead\u001b[0m\u001b[0;34m(\u001b[0m\u001b[0;34m)\u001b[0m\u001b[0;34m\u001b[0m\u001b[0;34m\u001b[0m\u001b[0m\n\u001b[0m",
            "\u001b[0;31mAttributeError\u001b[0m: 'NoneType' object has no attribute 'head'"
          ]
        }
      ]
    },
    {
      "cell_type": "code",
      "source": [
        "plt.figure(figsize=(15,5))\n",
        "sns.barplot(raw_df['Day'],raw_df['price'],hue=raw_df['Name'])\n",
        "plt.title('Highest number of market captured')\n",
        "plt.ylabel('Price')\n",
        "plt.xlabel('Days ', fontsize=12)\n",
        "plt.show()"
      ],
      "metadata": {
        "id": "GUx55RLbeY0q",
        "colab": {
          "base_uri": "https://localhost:8080/",
          "height": 489
        },
        "outputId": "a87ac34c-18a1-43bb-bf02-77cbd392337d"
      },
      "execution_count": 43,
      "outputs": [
        {
          "output_type": "stream",
          "name": "stderr",
          "text": [
            "/usr/local/lib/python3.8/dist-packages/seaborn/_decorators.py:36: FutureWarning: Pass the following variables as keyword args: x, y. From version 0.12, the only valid positional argument will be `data`, and passing other arguments without an explicit keyword will result in an error or misinterpretation.\n",
            "  warnings.warn(\n"
          ]
        },
        {
          "output_type": "display_data",
          "data": {
            "text/plain": [
              "<Figure size 1080x360 with 1 Axes>"
            ],
            "image/png": "[encoded data removed]"
          },
          "metadata": {
            "needs_background": "light"
          }
        }
      ]
    },
    {
      "cell_type": "code",
      "source": [
        "format_number = lambda x: '{:.2f}'.format(float(x))\n",
        "raw_df['Market_cap']=raw_df['Market_cap'].apply(format_number)"
      ],
      "metadata": {
        "id": "tUhTL-NdSfzH"
      },
      "execution_count": 51,
      "outputs": []
    },
    {
      "cell_type": "code",
      "source": [
        "raw_df['circulating_supply'] = raw_df['circulating_supply'].str.replace(',', '')"
      ],
      "metadata": {
        "id": "61fc74HZm5cG"
      },
      "execution_count": 56,
      "outputs": []
    },
    {
      "cell_type": "code",
      "source": [
        "raw_df=raw_df.drop(['Unnamed: 0','symbol','Date','Month','Year'],axis=1,inplace=True)"
      ],
      "metadata": {
        "id": "HOMHAzcHjXLV"
      },
      "execution_count": 60,
      "outputs": []
    },
    {
      "cell_type": "code",
      "source": [
        "raw_df.head"
      ],
      "metadata": {
        "colab": {
          "base_uri": "https://localhost:8080/",
          "height": 169
        },
        "id": "bd2W_qGHkg0A",
        "outputId": "07b1c1e9-f52b-48ce-b5ce-f2223e66a19c"
      },
      "execution_count": 62,
      "outputs": [
        {
          "output_type": "error",
          "ename": "AttributeError",
          "evalue": "ignored",
          "traceback": [
            "\u001b[0;31m---------------------------------------------------------------------------\u001b[0m",
            "\u001b[0;31mAttributeError\u001b[0m                            Traceback (most recent call last)",
            "\u001b[0;32m<ipython-input-62-3bb76d6742b8>\u001b[0m in \u001b[0;36m<module>\u001b[0;34m\u001b[0m\n\u001b[0;32m----> 1\u001b[0;31m \u001b[0mraw_df\u001b[0m\u001b[0;34m.\u001b[0m\u001b[0mhead\u001b[0m\u001b[0;34m\u001b[0m\u001b[0;34m\u001b[0m\u001b[0m\n\u001b[0m",
            "\u001b[0;31mAttributeError\u001b[0m: 'NoneType' object has no attribute 'head'"
          ]
        }
      ]
    },
    {
      "cell_type": "code",
      "source": [],
      "metadata": {
        "id": "ywNTrvLepMTW"
      },
      "execution_count": null,
      "outputs": []
    }
  ]
}