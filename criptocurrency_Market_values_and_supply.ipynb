{
  "nbformat": 4,
  "nbformat_minor": 0,
  "metadata": {
    "colab": {
      "provenance": [],
      "authorship_tag": "ABX9TyP7082UgDFk8d5NX3PDMcYY",
      "include_colab_link": true
    },
    "kernelspec": {
      "name": "python3",
      "display_name": "Python 3"
    },
    "language_info": {
      "name": "python"
    }
  },
  "cells": [
    {
      "cell_type": "markdown",
      "metadata": {
        "id": "view-in-github",
        "colab_type": "text"
      },
      "source": [
        "<a href=\"https://colab.research.google.com/github/INCREDIBLE-AURNOB/Criptocurrency-Market-Value/blob/main/criptocurrency_Market_values_and_supply.ipynb\" target=\"_parent\"><img src=\"https://colab.research.google.com/assets/colab-badge.svg\" alt=\"Open In Colab\"/></a>"
      ]
    },
    {
      "cell_type": "code",
      "source": [
        "!pip3 install opendatasets --quiet"
      ],
      "metadata": {
        "id": "gQ1r5zXb33wS"
      },
      "execution_count": 1,
      "outputs": []
    },
    {
      "cell_type": "code",
      "execution_count": 2,
      "metadata": {
        "id": "2dCffoVy3iPL"
      },
      "outputs": [],
      "source": [
        "\n",
        "import opendatasets as od"
      ]
    },
    {
      "cell_type": "code",
      "source": [
        "dataset=\"https://www.kaggle.com/datasets/thedevastator/cryptocurrency-market-values-and-supply\""
      ],
      "metadata": {
        "id": "zSxRBvMT3v6b"
      },
      "execution_count": 3,
      "outputs": []
    },
    {
      "cell_type": "code",
      "source": [
        "data=od.download(dataset)"
      ],
      "metadata": {
        "colab": {
          "base_uri": "https://localhost:8080/"
        },
        "id": "BknTihii3zrR",
        "outputId": "b664e8f2-e11d-42d1-93f8-2a32818db1b2"
      },
      "execution_count": 4,
      "outputs": [
        {
          "output_type": "stream",
          "name": "stdout",
          "text": [
            "Please provide your Kaggle credentials to download this dataset. Learn more: http://bit.ly/kaggle-creds\n",
            "Your Kaggle username: alrafiaurnob\n",
            "Your Kaggle Key: ··········\n",
            "Downloading cryptocurrency-market-values-and-supply.zip to ./cryptocurrency-market-values-and-supply\n"
          ]
        },
        {
          "output_type": "stream",
          "name": "stderr",
          "text": [
            "100%|██████████| 12.4k/12.4k [00:00<00:00, 2.41MB/s]"
          ]
        },
        {
          "output_type": "stream",
          "name": "stdout",
          "text": [
            "\n"
          ]
        },
        {
          "output_type": "stream",
          "name": "stderr",
          "text": [
            "\n"
          ]
        }
      ]
    },
    {
      "cell_type": "code",
      "source": [
        "import pandas as pd\n",
        "import numpy as np\n",
        "import matplotlib.pyplot as plt\n",
        "import seaborn as sns"
      ],
      "metadata": {
        "id": "xrhD2Mjn8Zvv"
      },
      "execution_count": 5,
      "outputs": []
    },
    {
      "cell_type": "code",
      "source": [
        "raw_df=pd.read_csv(\"/content/cryptocurrency-market-values-and-supply/top cryto2.csv\")"
      ],
      "metadata": {
        "id": "95hCHQc28r5D"
      },
      "execution_count": 6,
      "outputs": []
    },
    {
      "cell_type": "code",
      "source": [
        "raw_df"
      ],
      "metadata": {
        "colab": {
          "base_uri": "https://localhost:8080/",
          "height": 424
        },
        "id": "_mEGuFj48v5x",
        "outputId": "7d8ba088-815c-44e9-cd16-fee40f53e18f"
      },
      "execution_count": 7,
      "outputs": [
        {
          "output_type": "execute_result",
          "data": {
            "text/plain": [
              "     Unnamed: 0             Name    Market_cap     price circulating_supply  \\\n",
              "0             0          Bitcoin  3.852083e+11  20127.14         19,138,750   \n",
              "1             1         Ethereum  1.938345e+11   1586.18        122,202,301   \n",
              "2             2           Tether  6.755111e+10      1.00     67,550,404,113   \n",
              "3             3         USD Coin  5.202630e+10      1.00     52,027,528,034   \n",
              "4             4              BNB  4.491907e+10    278.42        161,337,261   \n",
              "..          ...              ...           ...       ...                ...   \n",
              "595         595        Avalanche  5.089442e+09     17.20        295,963,244   \n",
              "596         596          Uniswap  4.916393e+09      6.45        762,209,327   \n",
              "597         597  Wrapped Bitcoin  4.756996e+09  19427.69            244,856   \n",
              "598         598     UNUS SED LEO  3.996808e+09      4.19        953,954,130   \n",
              "599         599         Litecoin  3.806393e+09     53.40         71,284,731   \n",
              "\n",
              "    symbol               Date  \n",
              "0      BTC  01 September 2022  \n",
              "1      ETH  01 September 2022  \n",
              "2     USDT  01 September 2022  \n",
              "3     USDC  01 September 2022  \n",
              "4      BNB  01 September 2022  \n",
              "..     ...                ...  \n",
              "595   AVAX  30 September 2022  \n",
              "596    UNI  30 September 2022  \n",
              "597   WBTC  30 September 2022  \n",
              "598    LEO  30 September 2022  \n",
              "599    LTC  30 September 2022  \n",
              "\n",
              "[600 rows x 7 columns]"
            ],
            "text/html": [
              "\n",
              "  <div id=\"df-51875c86-e27a-4108-9c2f-45f7c17ca889\">\n",
              "    <div class=\"colab-df-container\">\n",
              "      <div>\n",
              "<style scoped>\n",
              "    .dataframe tbody tr th:only-of-type {\n",
              "        vertical-align: middle;\n",
              "    }\n",
              "\n",
              "    .dataframe tbody tr th {\n",
              "        vertical-align: top;\n",
              "    }\n",
              "\n",
              "    .dataframe thead th {\n",
              "        text-align: right;\n",
              "    }\n",
              "</style>\n",
              "<table border=\"1\" class=\"dataframe\">\n",
              "  <thead>\n",
              "    <tr style=\"text-align: right;\">\n",
              "      <th></th>\n",
              "      <th>Unnamed: 0</th>\n",
              "      <th>Name</th>\n",
              "      <th>Market_cap</th>\n",
              "      <th>price</th>\n",
              "      <th>circulating_supply</th>\n",
              "      <th>symbol</th>\n",
              "      <th>Date</th>\n",
              "    </tr>\n",
              "  </thead>\n",
              "  <tbody>\n",
              "    <tr>\n",
              "      <th>0</th>\n",
              "      <td>0</td>\n",
              "      <td>Bitcoin</td>\n",
              "      <td>3.852083e+11</td>\n",
              "      <td>20127.14</td>\n",
              "      <td>19,138,750</td>\n",
              "      <td>BTC</td>\n",
              "      <td>01 September 2022</td>\n",
              "    </tr>\n",
              "    <tr>\n",
              "      <th>1</th>\n",
              "      <td>1</td>\n",
              "      <td>Ethereum</td>\n",
              "      <td>1.938345e+11</td>\n",
              "      <td>1586.18</td>\n",
              "      <td>122,202,301</td>\n",
              "      <td>ETH</td>\n",
              "      <td>01 September 2022</td>\n",
              "    </tr>\n",
              "    <tr>\n",
              "      <th>2</th>\n",
              "      <td>2</td>\n",
              "      <td>Tether</td>\n",
              "      <td>6.755111e+10</td>\n",
              "      <td>1.00</td>\n",
              "      <td>67,550,404,113</td>\n",
              "      <td>USDT</td>\n",
              "      <td>01 September 2022</td>\n",
              "    </tr>\n",
              "    <tr>\n",
              "      <th>3</th>\n",
              "      <td>3</td>\n",
              "      <td>USD Coin</td>\n",
              "      <td>5.202630e+10</td>\n",
              "      <td>1.00</td>\n",
              "      <td>52,027,528,034</td>\n",
              "      <td>USDC</td>\n",
              "      <td>01 September 2022</td>\n",
              "    </tr>\n",
              "    <tr>\n",
              "      <th>4</th>\n",
              "      <td>4</td>\n",
              "      <td>BNB</td>\n",
              "      <td>4.491907e+10</td>\n",
              "      <td>278.42</td>\n",
              "      <td>161,337,261</td>\n",
              "      <td>BNB</td>\n",
              "      <td>01 September 2022</td>\n",
              "    </tr>\n",
              "    <tr>\n",
              "      <th>...</th>\n",
              "      <td>...</td>\n",
              "      <td>...</td>\n",
              "      <td>...</td>\n",
              "      <td>...</td>\n",
              "      <td>...</td>\n",
              "      <td>...</td>\n",
              "      <td>...</td>\n",
              "    </tr>\n",
              "    <tr>\n",
              "      <th>595</th>\n",
              "      <td>595</td>\n",
              "      <td>Avalanche</td>\n",
              "      <td>5.089442e+09</td>\n",
              "      <td>17.20</td>\n",
              "      <td>295,963,244</td>\n",
              "      <td>AVAX</td>\n",
              "      <td>30 September 2022</td>\n",
              "    </tr>\n",
              "    <tr>\n",
              "      <th>596</th>\n",
              "      <td>596</td>\n",
              "      <td>Uniswap</td>\n",
              "      <td>4.916393e+09</td>\n",
              "      <td>6.45</td>\n",
              "      <td>762,209,327</td>\n",
              "      <td>UNI</td>\n",
              "      <td>30 September 2022</td>\n",
              "    </tr>\n",
              "    <tr>\n",
              "      <th>597</th>\n",
              "      <td>597</td>\n",
              "      <td>Wrapped Bitcoin</td>\n",
              "      <td>4.756996e+09</td>\n",
              "      <td>19427.69</td>\n",
              "      <td>244,856</td>\n",
              "      <td>WBTC</td>\n",
              "      <td>30 September 2022</td>\n",
              "    </tr>\n",
              "    <tr>\n",
              "      <th>598</th>\n",
              "      <td>598</td>\n",
              "      <td>UNUS SED LEO</td>\n",
              "      <td>3.996808e+09</td>\n",
              "      <td>4.19</td>\n",
              "      <td>953,954,130</td>\n",
              "      <td>LEO</td>\n",
              "      <td>30 September 2022</td>\n",
              "    </tr>\n",
              "    <tr>\n",
              "      <th>599</th>\n",
              "      <td>599</td>\n",
              "      <td>Litecoin</td>\n",
              "      <td>3.806393e+09</td>\n",
              "      <td>53.40</td>\n",
              "      <td>71,284,731</td>\n",
              "      <td>LTC</td>\n",
              "      <td>30 September 2022</td>\n",
              "    </tr>\n",
              "  </tbody>\n",
              "</table>\n",
              "<p>600 rows × 7 columns</p>\n",
              "</div>\n",
              "      <button class=\"colab-df-convert\" onclick=\"convertToInteractive('df-51875c86-e27a-4108-9c2f-45f7c17ca889')\"\n",
              "              title=\"Convert this dataframe to an interactive table.\"\n",
              "              style=\"display:none;\">\n",
              "        \n",
              "  <svg xmlns=\"http://www.w3.org/2000/svg\" height=\"24px\"viewBox=\"0 0 24 24\"\n",
              "       width=\"24px\">\n",
              "    <path d=\"M0 0h24v24H0V0z\" fill=\"none\"/>\n",
              "    <path d=\"M18.56 5.44l.94 2.06.94-2.06 2.06-.94-2.06-.94-.94-2.06-.94 2.06-2.06.94zm-11 1L8.5 8.5l.94-2.06 2.06-.94-2.06-.94L8.5 2.5l-.94 2.06-2.06.94zm10 10l.94 2.06.94-2.06 2.06-.94-2.06-.94-.94-2.06-.94 2.06-2.06.94z\"/><path d=\"M17.41 7.96l-1.37-1.37c-.4-.4-.92-.59-1.43-.59-.52 0-1.04.2-1.43.59L10.3 9.45l-7.72 7.72c-.78.78-.78 2.05 0 2.83L4 21.41c.39.39.9.59 1.41.59.51 0 1.02-.2 1.41-.59l7.78-7.78 2.81-2.81c.8-.78.8-2.07 0-2.86zM5.41 20L4 18.59l7.72-7.72 1.47 1.35L5.41 20z\"/>\n",
              "  </svg>\n",
              "      </button>\n",
              "      \n",
              "  <style>\n",
              "    .colab-df-container {\n",
              "      display:flex;\n",
              "      flex-wrap:wrap;\n",
              "      gap: 12px;\n",
              "    }\n",
              "\n",
              "    .colab-df-convert {\n",
              "      background-color: #E8F0FE;\n",
              "      border: none;\n",
              "      border-radius: 50%;\n",
              "      cursor: pointer;\n",
              "      display: none;\n",
              "      fill: #1967D2;\n",
              "      height: 32px;\n",
              "      padding: 0 0 0 0;\n",
              "      width: 32px;\n",
              "    }\n",
              "\n",
              "    .colab-df-convert:hover {\n",
              "      background-color: #E2EBFA;\n",
              "      box-shadow: 0px 1px 2px rgba(60, 64, 67, 0.3), 0px 1px 3px 1px rgba(60, 64, 67, 0.15);\n",
              "      fill: #174EA6;\n",
              "    }\n",
              "\n",
              "    [theme=dark] .colab-df-convert {\n",
              "      background-color: #3B4455;\n",
              "      fill: #D2E3FC;\n",
              "    }\n",
              "\n",
              "    [theme=dark] .colab-df-convert:hover {\n",
              "      background-color: #434B5C;\n",
              "      box-shadow: 0px 1px 3px 1px rgba(0, 0, 0, 0.15);\n",
              "      filter: drop-shadow(0px 1px 2px rgba(0, 0, 0, 0.3));\n",
              "      fill: #FFFFFF;\n",
              "    }\n",
              "  </style>\n",
              "\n",
              "      <script>\n",
              "        const buttonEl =\n",
              "          document.querySelector('#df-51875c86-e27a-4108-9c2f-45f7c17ca889 button.colab-df-convert');\n",
              "        buttonEl.style.display =\n",
              "          google.colab.kernel.accessAllowed ? 'block' : 'none';\n",
              "\n",
              "        async function convertToInteractive(key) {\n",
              "          const element = document.querySelector('#df-51875c86-e27a-4108-9c2f-45f7c17ca889');\n",
              "          const dataTable =\n",
              "            await google.colab.kernel.invokeFunction('convertToInteractive',\n",
              "                                                     [key], {});\n",
              "          if (!dataTable) return;\n",
              "\n",
              "          const docLinkHtml = 'Like what you see? Visit the ' +\n",
              "            '<a target=\"_blank\" href=https://colab.research.google.com/notebooks/data_table.ipynb>data table notebook</a>'\n",
              "            + ' to learn more about interactive tables.';\n",
              "          element.innerHTML = '';\n",
              "          dataTable['output_type'] = 'display_data';\n",
              "          await google.colab.output.renderOutput(dataTable, element);\n",
              "          const docLink = document.createElement('div');\n",
              "          docLink.innerHTML = docLinkHtml;\n",
              "          element.appendChild(docLink);\n",
              "        }\n",
              "      </script>\n",
              "    </div>\n",
              "  </div>\n",
              "  "
            ]
          },
          "metadata": {},
          "execution_count": 7
        }
      ]
    },
    {
      "cell_type": "markdown",
      "source": [
        "Analysing the data"
      ],
      "metadata": {
        "id": "JAw3-rSk-dT8"
      }
    },
    {
      "cell_type": "code",
      "source": [
        "plt.figure(figsize=(10,5))\n",
        "sns.barplot(raw_df['Name'], raw_df['price'].values)\n",
        "plt.title('Highest Prices of Coins')\n",
        "plt.ylabel('Prices')\n",
        "plt.xlabel('Name of Coins', fontsize=12)\n",
        "plt.xticks(rotation=90)\n",
        "plt.show()"
      ],
      "metadata": {
        "id": "irxMwPiF8xZU",
        "colab": {
          "base_uri": "https://localhost:8080/",
          "height": 485
        },
        "outputId": "d3b8b817-1d94-40f7-d0b2-8078c8d673e6"
      },
      "execution_count": 25,
      "outputs": [
        {
          "output_type": "stream",
          "name": "stderr",
          "text": [
            "/usr/local/lib/python3.8/dist-packages/seaborn/_decorators.py:36: FutureWarning: Pass the following variables as keyword args: x, y. From version 0.12, the only valid positional argument will be `data`, and passing other arguments without an explicit keyword will result in an error or misinterpretation.\n",
            "  warnings.warn(\n"
          ]
        },
        {
          "output_type": "display_data",
          "data": {
            "text/plain": [
              "<Figure size 720x360 with 1 Axes>"
            ],
            "image/png": "[encoded data removed]"
          },
          "metadata": {
            "needs_background": "light"
          }
        }
      ]
    },
    {
      "cell_type": "code",
      "source": [
        "raw_df['Market_cap'].values"
      ],
      "metadata": {
        "colab": {
          "base_uri": "https://localhost:8080/"
        },
        "id": "nwEBmwF1220Y",
        "outputId": "cd04ed36-b056-4f59-fb2a-49702154643a"
      },
      "execution_count": 29,
      "outputs": [
        {
          "output_type": "execute_result",
          "data": {
            "text/plain": [
              "array([3.85208306e+11, 1.93834454e+11, 6.75511121e+10, 5.20263036e+10,\n",
              "       4.49190725e+10, 1.94270809e+10, 1.65419236e+10, 1.56376216e+10,\n",
              "       1.10458342e+10, 8.27490958e+09, 7.99600641e+09, 7.68741897e+09,\n",
              "       6.97713156e+09, 6.75325261e+09, 5.84318176e+09, 5.68519826e+09,\n",
              "       5.29642923e+09, 4.98084078e+09, 4.71260095e+09, 4.49766170e+09,\n",
              "       3.82212933e+11, 1.92760742e+11, 6.75563985e+10, 5.17589022e+10,\n",
              "       4.47575542e+10, 1.95600165e+10, 1.64458511e+10, 1.55377563e+10,\n",
              "       1.09207047e+10, 8.17716250e+09, 8.12687522e+09, 7.57053817e+09,\n",
              "       7.00564650e+09, 6.68401290e+09, 5.78237905e+09, 5.55386720e+09,\n",
              "       5.14912014e+09, 4.95162932e+09, 4.77221719e+09, 4.43722492e+09,\n",
              "       3.79595441e+11, 1.90294120e+11, 6.75553695e+10, 5.18627618e+10,\n",
              "       4.48155519e+10, 1.95562472e+10, 1.64206126e+10, 1.63817952e+10,\n",
              "       1.08792558e+10, 8.31760674e+09, 8.11045966e+09, 7.72079632e+09,\n",
              "       7.00500569e+09, 6.75778022e+09, 5.83021714e+09, 5.55843675e+09,\n",
              "       4.94072819e+09, 4.91521447e+09, 4.70149943e+09, 4.40825727e+09,\n",
              "       3.82576542e+11, 1.92853382e+11, 6.75545529e+10, 5.18817722e+10,\n",
              "       4.49875806e+10, 1.94380384e+10, 1.71964385e+10, 1.64726432e+10,\n",
              "       1.12322887e+10, 8.38828591e+09, 8.20784255e+09, 7.76381965e+09,\n",
              "       7.04337346e+09, 6.90705965e+09, 5.86791314e+09, 5.59693130e+09,\n",
              "       5.01692408e+09, 4.95153965e+09, 4.82520687e+09, 4.43626043e+09,\n",
              "       3.79258182e+11, 1.97707917e+11, 6.75529693e+10, 5.18560828e+10,\n",
              "       4.46397495e+10, 1.94342743e+10, 1.70609802e+10, 1.65302807e+10,\n",
              "       1.12629415e+10, 8.32343680e+09, 8.20356124e+09, 7.69870143e+09,\n",
              "       6.92091155e+09, 6.90529128e+09, 5.81565774e+09, 5.72138929e+09,\n",
              "       5.40111380e+09, 4.91591732e+09, 4.91510705e+09, 4.84293721e+09,\n",
              "       3.60616650e+11, 1.90949581e+11, 6.75490223e+10, 5.15912362e+10,\n",
              "       4.23781998e+10, 1.97292016e+10, 1.59964804e+10, 1.58285297e+10,\n",
              "       1.08111839e+10, 7.82536137e+09, 7.67625974e+09, 7.15233005e+09,\n",
              "       6.86181368e+09, 6.59219499e+09, 5.61312379e+09, 5.36957934e+09,\n",
              "       4.90461920e+09, 4.73322568e+09, 4.68458180e+09, 4.36201641e+09,\n",
              "       3.69299497e+11, 1.99305881e+11, 6.75530513e+10, 5.16891061e+10,\n",
              "       4.49745858e+10, 1.97109780e+10, 1.67490872e+10, 1.63828504e+10,\n",
              "       1.15465581e+10, 8.10672501e+09, 8.02357649e+09, 7.34421274e+09,\n",
              "       6.84980221e+09, 6.73134110e+09, 5.71041576e+09, 5.61071645e+09,\n",
              "       5.09529625e+09, 4.89519495e+09, 4.78956802e+09, 4.56669314e+09,\n",
              "       3.70071739e+11, 1.99992630e+11, 6.75526132e+10, 5.16785400e+10,\n",
              "       4.52676014e+10, 1.99122665e+10, 1.68919855e+10, 1.63825730e+10,\n",
              "       1.18634184e+10, 8.24033819e+09, 8.08988656e+09, 7.37362831e+09,\n",
              "       6.87498746e+09, 6.70896918e+09, 5.64775797e+09, 5.65573766e+09,\n",
              "       5.07541692e+09, 4.80818530e+09, 4.76344932e+09, 4.60368356e+09,\n",
              "       4.09363809e+11, 2.10255158e+11, 6.75620793e+10, 5.17245371e+10,\n",
              "       4.73375021e+10, 2.00024779e+10, 1.78136564e+10, 1.71908442e+10,\n",
              "       1.22672507e+10, 8.66712037e+09, 8.49337419e+09, 7.78671536e+09,\n",
              "       7.10887878e+09, 6.87487832e+09, 6.02969046e+09, 5.85776123e+09,\n",
              "       5.36693552e+09, 5.31748254e+09, 4.85392945e+09, 4.74538586e+09,\n",
              "       4.15117548e+11, 2.17263495e+11, 6.75652116e+10, 5.16779597e+10,\n",
              "       4.79121715e+10, 2.00028995e+10, 1.78218142e+10, 1.75156338e+10,\n",
              "       1.24038673e+10, 8.68631387e+09, 8.59394312e+09, 7.91500894e+09,\n",
              "       7.29797410e+09, 6.89878565e+09, 6.06026741e+09, 5.97348978e+09,\n",
              "       5.39610411e+09, 5.38345909e+09, 4.97953047e+09, 4.75814130e+09,\n",
              "       4.16840289e+11, 2.15523921e+11, 6.76709043e+10, 5.16016955e+10,\n",
              "       4.76206093e+10, 2.00005456e+10, 1.76941527e+10, 1.74243735e+10,\n",
              "       1.23529021e+10, 8.59119271e+09, 8.45298119e+09, 7.81383757e+09,\n",
              "       7.13936630e+09, 6.90572120e+09, 6.10806100e+09, 5.92075426e+09,\n",
              "       5.40850548e+09, 5.26655838e+09, 4.84393332e+09, 4.82805785e+09,\n",
              "       4.28373958e+11, 2.09669571e+11, 6.77379975e+10, 5.14303608e+10,\n",
              "       4.73780946e+10, 2.01289714e+10, 1.79097224e+10, 1.71438656e+10,\n",
              "       1.32262804e+10, 8.55408217e+09, 8.47827127e+09, 8.12302261e+09,\n",
              "       7.07012270e+09, 6.89020422e+09, 6.31200691e+09, 5.89528449e+09,\n",
              "       5.55683727e+09, 5.25123321e+09, 5.06876141e+09, 4.80500737e+09,\n",
              "       3.86523636e+11, 1.92686686e+11, 6.78212127e+10, 5.14605809e+10,\n",
              "       4.47565678e+10, 2.02042665e+10, 1.65895398e+10, 1.58580744e+10,\n",
              "       1.16684232e+10, 7.92213970e+09, 7.90221022e+09, 7.39060412e+09,\n",
              "       6.84336261e+09, 6.64272274e+09, 5.60905615e+09, 5.58387669e+09,\n",
              "       5.01665901e+09, 4.83647528e+09, 4.72360993e+09, 4.60632878e+09,\n",
              "       3.87631909e+11, 2.00044200e+11, 6.78929535e+10, 5.08342227e+10,\n",
              "       4.50753502e+10, 2.05151175e+10, 1.70445944e+10, 1.64544221e+10,\n",
              "       1.20628680e+10, 8.11582287e+09, 8.04687973e+09, 7.55334465e+09,\n",
              "       6.83398819e+09, 6.69694837e+09, 5.69053559e+09, 5.65385999e+09,\n",
              "       5.38277048e+09, 5.05016774e+09, 4.71671525e+09, 4.63695848e+09,\n",
              "       3.77311289e+11, 1.80110292e+11, 6.78836680e+10, 5.03658314e+10,\n",
              "       4.36912414e+10, 2.05198699e+10, 1.62599595e+10, 1.59166543e+10,\n",
              "       1.16982091e+10, 7.79988620e+09, 7.74008139e+09, 7.19969033e+09,\n",
              "       6.83151226e+09, 6.42499240e+09, 5.65762633e+09, 5.37774729e+09,\n",
              "       4.91243629e+09, 4.87288296e+09, 4.65876651e+09, 4.48378377e+09,\n",
              "       3.78693173e+11, 1.75325880e+11, 6.79221518e+10, 5.02373412e+10,\n",
              "       4.43120181e+10, 2.05250979e+10, 1.77723254e+10, 1.62065899e+10,\n",
              "       1.14012605e+10, 8.01637278e+09, 7.70894143e+09, 7.04026437e+09,\n",
              "       6.83406312e+09, 6.34451918e+09, 5.66105761e+09, 5.33959117e+09,\n",
              "       4.91437653e+09, 4.75211667e+09, 4.70075219e+09, 4.66207143e+09,\n",
              "       3.85513278e+11, 1.79913196e+11, 6.79301895e+10, 5.02123734e+10,\n",
              "       4.50533224e+10, 2.05147998e+10, 1.87845906e+10, 1.66519959e+10,\n",
              "       1.19472520e+10, 8.25348349e+09, 7.89780421e+09, 7.24497996e+09,\n",
              "       6.83530898e+09, 6.56121402e+09, 5.75302892e+09, 5.46593409e+09,\n",
              "       5.00577350e+09, 4.75215353e+09, 4.71483982e+09, 4.71663864e+09,\n",
              "       3.71970446e+11, 1.63478614e+11, 6.79251163e+10, 5.01904563e+10,\n",
              "       4.29662383e+10, 2.05279818e+10, 1.78538194e+10, 1.52857359e+10,\n",
              "       1.09987837e+10, 7.63116474e+09, 7.20624461e+09, 6.88054289e+09,\n",
              "       6.58062518e+09, 5.83205055e+09, 5.62258315e+09, 4.94826848e+09,\n",
              "       4.82684790e+09, 4.44058926e+09, 4.20199933e+09, 4.17242763e+09,\n",
              "       3.74373522e+11, 1.68666096e+11, 6.79307654e+10, 5.00150343e+10,\n",
              "       4.38949983e+10, 2.05102670e+10, 1.92951179e+10, 1.55016935e+10,\n",
              "       1.15682504e+10, 7.77610959e+09, 7.28502288e+09, 6.83165106e+09,\n",
              "       6.69082336e+09, 6.03914034e+09, 5.57258190e+09, 5.11788189e+09,\n",
              "       4.86459090e+09, 4.47728697e+09, 4.43828571e+09, 4.18199101e+09,\n",
              "       3.61876433e+11, 1.62176944e+11, 6.79277701e+10, 5.02132306e+10,\n",
              "       4.29753427e+10, 2.06963448e+10, 2.04972760e+10, 1.51050027e+10,\n",
              "       1.11250137e+10, 7.75017021e+09, 7.20712541e+09, 6.87473673e+09,\n",
              "       6.40468789e+09, 5.78034620e+09, 5.51827944e+09, 4.92968696e+09,\n",
              "       4.63112265e+09, 4.53464172e+09, 4.04223677e+09, 3.99017177e+09,\n",
              "       3.55314856e+11, 1.53404800e+11, 6.79684286e+10, 5.00101997e+10,\n",
              "       4.27208285e+10, 2.05233499e+10, 1.97813672e+10, 1.50797249e+10,\n",
              "       1.09144137e+10, 7.61581427e+09, 6.87614946e+09, 6.88907896e+09,\n",
              "       6.15091634e+09, 5.71939983e+09, 5.46695951e+09, 4.91613715e+09,\n",
              "       4.54147739e+09, 4.12260101e+09, 4.09012838e+09, 3.85424506e+09,\n",
              "       3.71923968e+11, 1.62617761e+11, 6.79685303e+10, 4.99063003e+10,\n",
              "       4.44484613e+10, 2.41816587e+10, 2.05115335e+10, 1.57090581e+10,\n",
              "       1.14896732e+10, 7.90699335e+09, 7.21813224e+09, 6.93238471e+09,\n",
              "       6.57546812e+09, 5.96004734e+09, 5.56536579e+09, 5.23407839e+09,\n",
              "       4.74573114e+09, 4.68380412e+09, 4.37418656e+09, 4.19528479e+09,\n",
              "       3.69718966e+11, 1.62707765e+11, 6.79534447e+10, 4.97409064e+10,\n",
              "       4.46301200e+10, 2.52818500e+10, 2.05210060e+10, 1.58067517e+10,\n",
              "       1.19390832e+10, 8.40282220e+09, 7.20938536e+09, 6.98167071e+09,\n",
              "       6.80149927e+09, 6.08144433e+09, 5.58256574e+09, 5.31375960e+09,\n",
              "       4.71138575e+09, 4.50648768e+09, 4.07311135e+09, 4.05618799e+09,\n",
              "       3.62826506e+11, 1.61469075e+11, 6.79580768e+10, 4.97133356e+10,\n",
              "       4.43895897e+10, 2.43618921e+10, 2.05174000e+10, 1.54569260e+10,\n",
              "       1.18675934e+10, 8.38931273e+09, 7.03263387e+09, 6.92861816e+09,\n",
              "       6.58708020e+09, 6.17786251e+09, 5.52933147e+09, 5.21445965e+09,\n",
              "       4.62833764e+09, 4.42290567e+09, 4.06314721e+09, 3.93664691e+09,\n",
              "       3.60259347e+11, 1.58574740e+11, 6.79584069e+10, 4.95894005e+10,\n",
              "       4.42162905e+10, 2.45568557e+10, 2.05305091e+10, 1.52739237e+10,\n",
              "       1.14677684e+10, 8.11307299e+09, 6.94825992e+09, 6.92890612e+09,\n",
              "       6.46504155e+09, 6.04794432e+09, 5.51602077e+09, 5.12803829e+09,\n",
              "       4.59909601e+09, 4.32402655e+09, 4.01420160e+09, 3.89242990e+09,\n",
              "       3.68335944e+11, 1.63630054e+11, 6.79553032e+10, 4.93691581e+10,\n",
              "       4.45174436e+10, 2.33374424e+10, 2.05126405e+10, 1.52955599e+10,\n",
              "       1.20202346e+10, 8.10472944e+09, 7.37841146e+09, 6.92088371e+09,\n",
              "       6.59225870e+09, 6.10205750e+09, 5.49930415e+09, 5.19063676e+09,\n",
              "       4.70208260e+09, 4.51013963e+09, 3.97968501e+09, 3.89894767e+09,\n",
              "       3.66202733e+11, 1.63012762e+11, 6.79548310e+10, 4.92122813e+10,\n",
              "       4.39485188e+10, 2.23942310e+10, 2.10672223e+10, 1.51303738e+10,\n",
              "       1.16191525e+10, 8.04104094e+09, 7.15764349e+09, 6.90807713e+09,\n",
              "       6.46694341e+09, 6.10816043e+09, 5.48633429e+09, 5.12138605e+09,\n",
              "       4.87421839e+09, 4.68560856e+09, 3.96929268e+09, 3.94305551e+09,\n",
              "       3.72279603e+11, 1.63924505e+11, 6.79546088e+10, 4.88789625e+10,\n",
              "       4.54618082e+10, 2.24888105e+10, 2.10375911e+10, 1.49728579e+10,\n",
              "       1.17913071e+10, 8.04283868e+09, 7.16918604e+09, 6.85933275e+09,\n",
              "       6.52778906e+09, 6.10367174e+09, 5.50328852e+09, 5.10686304e+09,\n",
              "       4.99994938e+09, 4.76594750e+09, 3.93287055e+09, 3.84145163e+09,\n",
              "       3.75100872e+11, 1.63728078e+11, 6.79616015e+10, 4.85842615e+10,\n",
              "       4.57857427e+10, 2.42226336e+10, 2.10444329e+10, 1.50029623e+10,\n",
              "       1.20501801e+10, 8.05678408e+09, 7.25028951e+09, 6.87461230e+09,\n",
              "       6.66877243e+09, 6.10575861e+09, 5.63593839e+09, 5.13391151e+09,\n",
              "       4.85799185e+09, 4.79339645e+09, 4.01028718e+09, 3.88421585e+09,\n",
              "       3.72414733e+11, 1.62806430e+11, 6.79595370e+10, 4.73773750e+10,\n",
              "       4.58508075e+10, 2.39410648e+10, 2.10423005e+10, 1.48763974e+10,\n",
              "       1.17875222e+10, 8.17951875e+09, 7.08543825e+09, 6.86524913e+09,\n",
              "       6.79046237e+09, 6.21312326e+09, 5.63413007e+09, 5.08944223e+09,\n",
              "       4.91639330e+09, 4.75699644e+09, 3.99680845e+09, 3.80639335e+09])"
            ]
          },
          "metadata": {},
          "execution_count": 29
        }
      ]
    },
    {
      "cell_type": "code",
      "source": [
        "plt.figure(figsize=(10,5))\n",
        "sns.barplot(raw_df['Name'], raw_df['Market_cap'].values)\n",
        "plt.title('Highest number of market captured')\n",
        "plt.ylabel('Market Capture')\n",
        "plt.xlabel('Name of Coins', fontsize=12)\n",
        "plt.xticks(rotation=90)\n",
        "plt.show()"
      ],
      "metadata": {
        "colab": {
          "base_uri": "https://localhost:8080/",
          "height": 485
        },
        "id": "SbplsEB3mNS3",
        "outputId": "d4ade1fc-e95e-4d5c-ded4-60b73c33f74f"
      },
      "execution_count": 26,
      "outputs": [
        {
          "output_type": "stream",
          "name": "stderr",
          "text": [
            "/usr/local/lib/python3.8/dist-packages/seaborn/_decorators.py:36: FutureWarning: Pass the following variables as keyword args: x, y. From version 0.12, the only valid positional argument will be `data`, and passing other arguments without an explicit keyword will result in an error or misinterpretation.\n",
            "  warnings.warn(\n"
          ]
        },
        {
          "output_type": "display_data",
          "data": {
            "text/plain": [
              "<Figure size 720x360 with 1 Axes>"
            ],
            "image/png": "[encoded data removed]"
          },
          "metadata": {
            "needs_background": "light"
          }
        }
      ]
    },
    {
      "cell_type": "code",
      "source": [
        "plt.figure(figsize=(10,5))\n",
        "sns.barplot(raw_df['Name'], raw_df['circulation_supply'].values)\n",
        "plt.title('Highest Prices of Coins')\n",
        "plt.ylabel('Prices')\n",
        "plt.xlabel('Name of Coins', fontsize=12)\n",
        "plt.xticks(rotation=90)\n",
        "plt.show()"
      ],
      "metadata": {
        "colab": {
          "base_uri": "https://localhost:8080/",
          "height": 532
        },
        "id": "di3wkR94yVes",
        "outputId": "c263700a-fe70-4018-d707-7a70903ad89d"
      },
      "execution_count": 28,
      "outputs": [
        {
          "output_type": "error",
          "ename": "KeyError",
          "evalue": "ignored",
          "traceback": [
            "\u001b[0;31m---------------------------------------------------------------------------\u001b[0m",
            "\u001b[0;31mKeyError\u001b[0m                                  Traceback (most recent call last)",
            "\u001b[0;32m/usr/local/lib/python3.8/dist-packages/pandas/core/indexes/base.py\u001b[0m in \u001b[0;36mget_loc\u001b[0;34m(self, key, method, tolerance)\u001b[0m\n\u001b[1;32m   3360\u001b[0m             \u001b[0;32mtry\u001b[0m\u001b[0;34m:\u001b[0m\u001b[0;34m\u001b[0m\u001b[0;34m\u001b[0m\u001b[0m\n\u001b[0;32m-> 3361\u001b[0;31m                 \u001b[0;32mreturn\u001b[0m \u001b[0mself\u001b[0m\u001b[0;34m.\u001b[0m\u001b[0m_engine\u001b[0m\u001b[0;34m.\u001b[0m\u001b[0mget_loc\u001b[0m\u001b[0;34m(\u001b[0m\u001b[0mcasted_key\u001b[0m\u001b[0;34m)\u001b[0m\u001b[0;34m\u001b[0m\u001b[0;34m\u001b[0m\u001b[0m\n\u001b[0m\u001b[1;32m   3362\u001b[0m             \u001b[0;32mexcept\u001b[0m \u001b[0mKeyError\u001b[0m \u001b[0;32mas\u001b[0m \u001b[0merr\u001b[0m\u001b[0;34m:\u001b[0m\u001b[0;34m\u001b[0m\u001b[0;34m\u001b[0m\u001b[0m\n",
            "\u001b[0;32m/usr/local/lib/python3.8/dist-packages/pandas/_libs/index.pyx\u001b[0m in \u001b[0;36mpandas._libs.index.IndexEngine.get_loc\u001b[0;34m()\u001b[0m\n",
            "\u001b[0;32m/usr/local/lib/python3.8/dist-packages/pandas/_libs/index.pyx\u001b[0m in \u001b[0;36mpandas._libs.index.IndexEngine.get_loc\u001b[0;34m()\u001b[0m\n",
            "\u001b[0;32mpandas/_libs/hashtable_class_helper.pxi\u001b[0m in \u001b[0;36mpandas._libs.hashtable.PyObjectHashTable.get_item\u001b[0;34m()\u001b[0m\n",
            "\u001b[0;32mpandas/_libs/hashtable_class_helper.pxi\u001b[0m in \u001b[0;36mpandas._libs.hashtable.PyObjectHashTable.get_item\u001b[0;34m()\u001b[0m\n",
            "\u001b[0;31mKeyError\u001b[0m: 'circulation_supply'",
            "\nThe above exception was the direct cause of the following exception:\n",
            "\u001b[0;31mKeyError\u001b[0m                                  Traceback (most recent call last)",
            "\u001b[0;32m<ipython-input-28-65c90aa8fa19>\u001b[0m in \u001b[0;36m<module>\u001b[0;34m\u001b[0m\n\u001b[1;32m      1\u001b[0m \u001b[0mplt\u001b[0m\u001b[0;34m.\u001b[0m\u001b[0mfigure\u001b[0m\u001b[0;34m(\u001b[0m\u001b[0mfigsize\u001b[0m\u001b[0;34m=\u001b[0m\u001b[0;34m(\u001b[0m\u001b[0;36m10\u001b[0m\u001b[0;34m,\u001b[0m\u001b[0;36m5\u001b[0m\u001b[0;34m)\u001b[0m\u001b[0;34m)\u001b[0m\u001b[0;34m\u001b[0m\u001b[0;34m\u001b[0m\u001b[0m\n\u001b[0;32m----> 2\u001b[0;31m \u001b[0msns\u001b[0m\u001b[0;34m.\u001b[0m\u001b[0mbarplot\u001b[0m\u001b[0;34m(\u001b[0m\u001b[0mraw_df\u001b[0m\u001b[0;34m[\u001b[0m\u001b[0;34m'Name'\u001b[0m\u001b[0;34m]\u001b[0m\u001b[0;34m,\u001b[0m \u001b[0mraw_df\u001b[0m\u001b[0;34m[\u001b[0m\u001b[0;34m'circulation_supply'\u001b[0m\u001b[0;34m]\u001b[0m\u001b[0;34m.\u001b[0m\u001b[0mvalues\u001b[0m\u001b[0;34m)\u001b[0m\u001b[0;34m\u001b[0m\u001b[0;34m\u001b[0m\u001b[0m\n\u001b[0m\u001b[1;32m      3\u001b[0m \u001b[0mplt\u001b[0m\u001b[0;34m.\u001b[0m\u001b[0mtitle\u001b[0m\u001b[0;34m(\u001b[0m\u001b[0;34m'Highest Prices of Coins'\u001b[0m\u001b[0;34m)\u001b[0m\u001b[0;34m\u001b[0m\u001b[0;34m\u001b[0m\u001b[0m\n\u001b[1;32m      4\u001b[0m \u001b[0mplt\u001b[0m\u001b[0;34m.\u001b[0m\u001b[0mylabel\u001b[0m\u001b[0;34m(\u001b[0m\u001b[0;34m'Prices'\u001b[0m\u001b[0;34m)\u001b[0m\u001b[0;34m\u001b[0m\u001b[0;34m\u001b[0m\u001b[0m\n\u001b[1;32m      5\u001b[0m \u001b[0mplt\u001b[0m\u001b[0;34m.\u001b[0m\u001b[0mxlabel\u001b[0m\u001b[0;34m(\u001b[0m\u001b[0;34m'Name of Coins'\u001b[0m\u001b[0;34m,\u001b[0m \u001b[0mfontsize\u001b[0m\u001b[0;34m=\u001b[0m\u001b[0;36m12\u001b[0m\u001b[0;34m)\u001b[0m\u001b[0;34m\u001b[0m\u001b[0;34m\u001b[0m\u001b[0m\n",
            "\u001b[0;32m/usr/local/lib/python3.8/dist-packages/pandas/core/frame.py\u001b[0m in \u001b[0;36m__getitem__\u001b[0;34m(self, key)\u001b[0m\n\u001b[1;32m   3456\u001b[0m             \u001b[0;32mif\u001b[0m \u001b[0mself\u001b[0m\u001b[0;34m.\u001b[0m\u001b[0mcolumns\u001b[0m\u001b[0;34m.\u001b[0m\u001b[0mnlevels\u001b[0m \u001b[0;34m>\u001b[0m \u001b[0;36m1\u001b[0m\u001b[0;34m:\u001b[0m\u001b[0;34m\u001b[0m\u001b[0;34m\u001b[0m\u001b[0m\n\u001b[1;32m   3457\u001b[0m                 \u001b[0;32mreturn\u001b[0m \u001b[0mself\u001b[0m\u001b[0;34m.\u001b[0m\u001b[0m_getitem_multilevel\u001b[0m\u001b[0;34m(\u001b[0m\u001b[0mkey\u001b[0m\u001b[0;34m)\u001b[0m\u001b[0;34m\u001b[0m\u001b[0;34m\u001b[0m\u001b[0m\n\u001b[0;32m-> 3458\u001b[0;31m             \u001b[0mindexer\u001b[0m \u001b[0;34m=\u001b[0m \u001b[0mself\u001b[0m\u001b[0;34m.\u001b[0m\u001b[0mcolumns\u001b[0m\u001b[0;34m.\u001b[0m\u001b[0mget_loc\u001b[0m\u001b[0;34m(\u001b[0m\u001b[0mkey\u001b[0m\u001b[0;34m)\u001b[0m\u001b[0;34m\u001b[0m\u001b[0;34m\u001b[0m\u001b[0m\n\u001b[0m\u001b[1;32m   3459\u001b[0m             \u001b[0;32mif\u001b[0m \u001b[0mis_integer\u001b[0m\u001b[0;34m(\u001b[0m\u001b[0mindexer\u001b[0m\u001b[0;34m)\u001b[0m\u001b[0;34m:\u001b[0m\u001b[0;34m\u001b[0m\u001b[0;34m\u001b[0m\u001b[0m\n\u001b[1;32m   3460\u001b[0m                 \u001b[0mindexer\u001b[0m \u001b[0;34m=\u001b[0m \u001b[0;34m[\u001b[0m\u001b[0mindexer\u001b[0m\u001b[0;34m]\u001b[0m\u001b[0;34m\u001b[0m\u001b[0;34m\u001b[0m\u001b[0m\n",
            "\u001b[0;32m/usr/local/lib/python3.8/dist-packages/pandas/core/indexes/base.py\u001b[0m in \u001b[0;36mget_loc\u001b[0;34m(self, key, method, tolerance)\u001b[0m\n\u001b[1;32m   3361\u001b[0m                 \u001b[0;32mreturn\u001b[0m \u001b[0mself\u001b[0m\u001b[0;34m.\u001b[0m\u001b[0m_engine\u001b[0m\u001b[0;34m.\u001b[0m\u001b[0mget_loc\u001b[0m\u001b[0;34m(\u001b[0m\u001b[0mcasted_key\u001b[0m\u001b[0;34m)\u001b[0m\u001b[0;34m\u001b[0m\u001b[0;34m\u001b[0m\u001b[0m\n\u001b[1;32m   3362\u001b[0m             \u001b[0;32mexcept\u001b[0m \u001b[0mKeyError\u001b[0m \u001b[0;32mas\u001b[0m \u001b[0merr\u001b[0m\u001b[0;34m:\u001b[0m\u001b[0;34m\u001b[0m\u001b[0;34m\u001b[0m\u001b[0m\n\u001b[0;32m-> 3363\u001b[0;31m                 \u001b[0;32mraise\u001b[0m \u001b[0mKeyError\u001b[0m\u001b[0;34m(\u001b[0m\u001b[0mkey\u001b[0m\u001b[0;34m)\u001b[0m \u001b[0;32mfrom\u001b[0m \u001b[0merr\u001b[0m\u001b[0;34m\u001b[0m\u001b[0;34m\u001b[0m\u001b[0m\n\u001b[0m\u001b[1;32m   3364\u001b[0m \u001b[0;34m\u001b[0m\u001b[0m\n\u001b[1;32m   3365\u001b[0m         \u001b[0;32mif\u001b[0m \u001b[0mis_scalar\u001b[0m\u001b[0;34m(\u001b[0m\u001b[0mkey\u001b[0m\u001b[0;34m)\u001b[0m \u001b[0;32mand\u001b[0m \u001b[0misna\u001b[0m\u001b[0;34m(\u001b[0m\u001b[0mkey\u001b[0m\u001b[0;34m)\u001b[0m \u001b[0;32mand\u001b[0m \u001b[0;32mnot\u001b[0m \u001b[0mself\u001b[0m\u001b[0;34m.\u001b[0m\u001b[0mhasnans\u001b[0m\u001b[0;34m:\u001b[0m\u001b[0;34m\u001b[0m\u001b[0;34m\u001b[0m\u001b[0m\n",
            "\u001b[0;31mKeyError\u001b[0m: 'circulation_supply'"
          ]
        },
        {
          "output_type": "display_data",
          "data": {
            "text/plain": [
              "<Figure size 720x360 with 0 Axes>"
            ]
          },
          "metadata": {}
        }
      ]
    },
    {
      "cell_type": "code",
      "source": [],
      "metadata": {
        "id": "z2nhYOgPyl7q"
      },
      "execution_count": null,
      "outputs": []
    }
  ]
}